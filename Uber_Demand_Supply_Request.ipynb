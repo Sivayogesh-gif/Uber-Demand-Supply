{
  "nbformat": 4,
  "nbformat_minor": 0,
  "metadata": {
    "colab": {
      "private_outputs": true,
      "provenance": [],
      "collapsed_sections": [
        "w6K7xa23Elo4"
      ],
      "include_colab_link": true
    },
    "kernelspec": {
      "name": "python3",
      "display_name": "Python 3"
    },
    "language_info": {
      "name": "python"
    }
  },
  "cells": [
    {
      "cell_type": "markdown",
      "metadata": {
        "id": "view-in-github",
        "colab_type": "text"
      },
      "source": [
        "<a href=\"https://colab.research.google.com/github/Sivayogesh-gif/Uber-Demand-Supply/blob/main/Uber_Demand_Supply_Request.ipynb\" target=\"_parent\"><img src=\"https://colab.research.google.com/assets/colab-badge.svg\" alt=\"Open In Colab\"/></a>"
      ]
    },
    {
      "cell_type": "code",
      "source": [],
      "metadata": {
        "id": "I1apcow5dxii"
      },
      "execution_count": null,
      "outputs": []
    },
    {
      "cell_type": "markdown",
      "source": [
        "# **Project Name**    - Uber Demand Supply Request\n",
        "\n"
      ],
      "metadata": {
        "id": "vncDsAP0Gaoa"
      }
    },
    {
      "cell_type": "markdown",
      "source": [
        "##### **Project Type**    - EDA\n",
        "##### **Contribution**    - Individual\n",
        "##### **Team Member 1 -** Sivayogesh S\n"
      ],
      "metadata": {
        "id": "beRrZCGUAJYm"
      }
    },
    {
      "cell_type": "markdown",
      "source": [
        "# **Project Summary -**"
      ],
      "metadata": {
        "id": "FJNUwmbgGyua"
      }
    },
    {
      "cell_type": "markdown",
      "source": [
        "This project focuses on analyzing the supply-demand gap in Uber rides, primarily for airport trips. Using EDA, we identify trends in trip requests, cancellations, and completed rides to uncover patterns during peak hours. Insights from this analysis can help Uber reduce cancellations, improve customer experience, and optimize driver allocation. The dataset contains variables such as request timestamp, drop timestamp, and request status, which will be explored through univariate, bivariate, and multivariate analysis. Visualizations will be used to highlight peak-demand windows and suggest strategic solutions."
      ],
      "metadata": {
        "id": "F6v_1wHtG2nS"
      }
    },
    {
      "cell_type": "markdown",
      "source": [
        "# **GitHub Link -**"
      ],
      "metadata": {
        "id": "w6K7xa23Elo4"
      }
    },
    {
      "cell_type": "markdown",
      "source": [
        "Provide your GitHub Link here."
      ],
      "metadata": {
        "id": "h1o69JH3Eqqn"
      }
    },
    {
      "cell_type": "markdown",
      "source": [
        "# **Problem Statement**\n"
      ],
      "metadata": {
        "id": "yQaldy8SH6Dl"
      }
    },
    {
      "cell_type": "markdown",
      "source": [
        "The primary challenge faced by Uber is the mismatch between supply (available drivers) and demand (customer ride requests), particularly during peak hours and at critical locations such as airports. This imbalance results in canceled rides, delayed pickups, and dissatisfied customers, which negatively impacts Uber’s revenue and customer trust."
      ],
      "metadata": {
        "id": "DpeJGUA3kjGy"
      }
    },
    {
      "cell_type": "markdown",
      "source": [
        "#### **Define Your Business Objective?**"
      ],
      "metadata": {
        "id": "PH-0ReGfmX4f"
      }
    },
    {
      "cell_type": "markdown",
      "source": [
        "The objective is to analyze the Uber request data to identify patterns and root causes of the supply-demand gap. Key goals include:\n",
        "\n",
        "Understanding demand trends across different times of the day.\n",
        "\n",
        "Identifying high-demand zones and peak-hour patterns.\n",
        "\n",
        "Examining reasons for cancellations and non-availability of cars.\n",
        "\n",
        "Providing actionable recommendations to minimize cancellations and improve customer experience."
      ],
      "metadata": {
        "id": "PhDvGCAqmjP1"
      }
    },
    {
      "cell_type": "markdown",
      "source": [
        "# **General Guidelines** : -  "
      ],
      "metadata": {
        "id": "mDgbUHAGgjLW"
      }
    },
    {
      "cell_type": "markdown",
      "source": [
        "1.   Well-structured, formatted, and commented code is required.\n",
        "2.   Exception Handling, Production Grade Code & Deployment Ready Code will be a plus. Those students will be awarded some additional credits.\n",
        "     \n",
        "     The additional credits will have advantages over other students during Star Student selection.\n",
        "       \n",
        "             [ Note: - Deployment Ready Code is defined as, the whole .ipynb notebook should be executable in one go\n",
        "                       without a single error logged. ]\n",
        "\n",
        "3.   Each and every logic should have proper comments.\n",
        "4. You may add as many number of charts you want. Make Sure for each and every chart the following format should be answered.\n",
        "        \n",
        "\n",
        "```\n",
        "# Chart visualization code\n",
        "```\n",
        "            \n",
        "\n",
        "*   Why did you pick the specific chart?\n",
        "*   What is/are the insight(s) found from the chart?\n",
        "* Will the gained insights help creating a positive business impact?\n",
        "Are there any insights that lead to negative growth? Justify with specific reason.\n",
        "\n",
        "5. You have to create at least 20 logical & meaningful charts having important insights.\n",
        "\n",
        "\n",
        "[ Hints : - Do the Vizualization in  a structured way while following \"UBM\" Rule.\n",
        "\n",
        "U - Univariate Analysis,\n",
        "\n",
        "B - Bivariate Analysis (Numerical - Categorical, Numerical - Numerical, Categorical - Categorical)\n",
        "\n",
        "M - Multivariate Analysis\n",
        " ]\n",
        "\n",
        "\n",
        "\n"
      ],
      "metadata": {
        "id": "ZrxVaUj-hHfC"
      }
    },
    {
      "cell_type": "markdown",
      "source": [
        "# ***Let's Begin !***"
      ],
      "metadata": {
        "id": "O_i_v8NEhb9l"
      }
    },
    {
      "cell_type": "markdown",
      "source": [
        "## ***1. Know Your Data***"
      ],
      "metadata": {
        "id": "HhfV-JJviCcP"
      }
    },
    {
      "cell_type": "markdown",
      "source": [
        "### Import Libraries"
      ],
      "metadata": {
        "id": "Y3lxredqlCYt"
      }
    },
    {
      "cell_type": "code",
      "source": [
        "# Import required libraries\n",
        "import pandas as pd\n",
        "import numpy as np\n",
        "import matplotlib.pyplot as plt\n",
        "import seaborn as sns\n",
        "import warnings\n",
        "\n",
        "warnings.filterwarnings('ignore')\n",
        "sns.set(style=\"whitegrid\")"
      ],
      "metadata": {
        "id": "M8Vqi-pPk-HR"
      },
      "execution_count": null,
      "outputs": []
    },
    {
      "cell_type": "markdown",
      "source": [
        "### Dataset Loading"
      ],
      "metadata": {
        "id": "3RnN4peoiCZX"
      }
    },
    {
      "cell_type": "code",
      "source": [
        "from google.colab import files\n",
        "uploaded = files.upload()  # Upload your CSV file manually\n",
        "\n",
        "# Load dataset\n",
        "df = pd.read_csv('Uber Request Data.csv')  # Replace with your filename"
      ],
      "metadata": {
        "id": "4CkvbW_SlZ_R"
      },
      "execution_count": null,
      "outputs": []
    },
    {
      "cell_type": "markdown",
      "source": [
        "### Dataset First View"
      ],
      "metadata": {
        "id": "x71ZqKXriCWQ"
      }
    },
    {
      "cell_type": "code",
      "source": [
        "df.head()"
      ],
      "metadata": {
        "id": "LWNFOSvLl09H"
      },
      "execution_count": null,
      "outputs": []
    },
    {
      "cell_type": "markdown",
      "source": [
        "### Dataset Rows & Columns count"
      ],
      "metadata": {
        "id": "7hBIi_osiCS2"
      }
    },
    {
      "cell_type": "code",
      "source": [
        "print(\"Number of rows:\", df.shape[0])\n",
        "print(\"Number of columns:\", df.shape[1])"
      ],
      "metadata": {
        "id": "Kllu7SJgmLij"
      },
      "execution_count": null,
      "outputs": []
    },
    {
      "cell_type": "markdown",
      "source": [
        "### Dataset Information"
      ],
      "metadata": {
        "id": "JlHwYmJAmNHm"
      }
    },
    {
      "cell_type": "code",
      "source": [
        "df.info()"
      ],
      "metadata": {
        "id": "e9hRXRi6meOf"
      },
      "execution_count": null,
      "outputs": []
    },
    {
      "cell_type": "markdown",
      "source": [
        "#### Duplicate Values"
      ],
      "metadata": {
        "id": "35m5QtbWiB9F"
      }
    },
    {
      "cell_type": "code",
      "source": [
        "print(\"Duplicate values:\", df.duplicated().sum())"
      ],
      "metadata": {
        "id": "1sLdpKYkmox0"
      },
      "execution_count": null,
      "outputs": []
    },
    {
      "cell_type": "markdown",
      "source": [
        "#### Missing Values/Null Values"
      ],
      "metadata": {
        "id": "PoPl-ycgm1ru"
      }
    },
    {
      "cell_type": "code",
      "source": [
        "# Missing Values / Null Values Count\n",
        "print(\"Missing values in each column:\")\n",
        "print(df.isnull().sum())"
      ],
      "metadata": {
        "id": "GgHWkxvamxVg"
      },
      "execution_count": null,
      "outputs": []
    },
    {
      "cell_type": "code",
      "source": [
        "import matplotlib.pyplot as plt\n",
        "import seaborn as sns\n",
        "\n",
        "# Heatmap for Missing Values\n",
        "plt.figure(figsize=(10, 6))\n",
        "sns.heatmap(df.isnull(), cbar=False, cmap='viridis')\n",
        "plt.title('Missing Values Heatmap', fontsize=14)\n",
        "plt.show()"
      ],
      "metadata": {
        "id": "3q5wnI3om9sJ"
      },
      "execution_count": null,
      "outputs": []
    },
    {
      "cell_type": "markdown",
      "source": [
        "### What did you know about your dataset?"
      ],
      "metadata": {
        "id": "H0kj-8xxnORC"
      }
    },
    {
      "cell_type": "markdown",
      "source": [
        "The dataset contains details of Uber ride requests, including the request timestamp, drop timestamp, pickup point, and ride status. It consists of approximately 6,769 rows and 6 columns. The key columns are:\n",
        "\n",
        "Request id: Unique identifier for each request.\n",
        "\n",
        "Request timestamp & Drop timestamp: Need conversion to datetime for analysis.\n",
        "\n",
        "Pickup point: Either City or Airport.\n",
        "\n",
        "Status: Indicates whether the trip was completed, canceled, or no car was available.\n",
        "\n",
        "Initial observations:\n",
        "\n",
        "There are no duplicate values in the dataset.\n",
        "\n",
        "The Drop timestamp column has missing values because of cancellations or unavailability of cars.\n",
        "\n",
        "Data cleaning is required, including timestamp conversion and feature extraction (hour, day, etc.) for deeper analysis."
      ],
      "metadata": {
        "id": "gfoNAAC-nUe_"
      }
    },
    {
      "cell_type": "markdown",
      "source": [
        "## ***2. Understanding Your Variables***"
      ],
      "metadata": {
        "id": "nA9Y7ga8ng1Z"
      }
    },
    {
      "cell_type": "code",
      "source": [
        "# Display all column names\n",
        "print(\"Columns in the dataset:\")\n",
        "print(df.columns.tolist())\n"
      ],
      "metadata": {
        "id": "j7xfkqrt5Ag5"
      },
      "execution_count": null,
      "outputs": []
    },
    {
      "cell_type": "code",
      "source": [
        "# Dataset statistical summary\n",
        "print(\"Statistical summary of numerical columns:\")\n",
        "print(df.describe(include='all'))\n"
      ],
      "metadata": {
        "id": "DnOaZdaE5Q5t"
      },
      "execution_count": null,
      "outputs": []
    },
    {
      "cell_type": "markdown",
      "source": [
        "### Variables Description"
      ],
      "metadata": {
        "id": "PBTbrJXOngz2"
      }
    },
    {
      "cell_type": "markdown",
      "source": [
        "The dataset consists of the following key variables:\n",
        "\n",
        "Request id: Unique identifier for each request.\n",
        "\n",
        "Pickup point: Location from which the trip is requested (City/Airport).\n",
        "\n",
        "Driver id: Unique identifier for the driver (if assigned).\n",
        "\n",
        "Status: Current state of the trip request (Completed, Canceled, or No Cars Available).\n",
        "\n",
        "Request timestamp: Date and time when the ride was requested.\n",
        "\n",
        "Drop timestamp: Date and time when the ride ended (if applicable)."
      ],
      "metadata": {
        "id": "aJV4KIxSnxay"
      }
    },
    {
      "cell_type": "markdown",
      "source": [
        "### Check Unique Values for each variable."
      ],
      "metadata": {
        "id": "u3PMJOP6ngxN"
      }
    },
    {
      "cell_type": "code",
      "source": [
        "# Unique values for each variable\n",
        "for col in df.columns:\n",
        "    print(f\"{col} : {df[col].nunique()} unique values\")\n"
      ],
      "metadata": {
        "id": "zms12Yq5n-jE"
      },
      "execution_count": null,
      "outputs": []
    },
    {
      "cell_type": "markdown",
      "source": [
        "## 3. ***Data Wrangling***"
      ],
      "metadata": {
        "id": "dauF4eBmngu3"
      }
    },
    {
      "cell_type": "markdown",
      "source": [
        "### Data Wrangling Code"
      ],
      "metadata": {
        "id": "bKJF3rekwFvQ"
      }
    },
    {
      "cell_type": "code",
      "source": [
        "# Convert timestamps to datetime format\n",
        "df['Request timestamp'] = pd.to_datetime(df['Request timestamp'], dayfirst=True, errors='coerce')\n",
        "df['Drop timestamp'] = pd.to_datetime(df['Drop timestamp'], dayfirst=True, errors='coerce')\n",
        "\n",
        "# Create new columns for analysis\n",
        "df['Request Hour'] = df['Request timestamp'].dt.hour\n",
        "df['Request Day'] = df['Request timestamp'].dt.day\n",
        "df['Request Date'] = df['Request timestamp'].dt.date\n",
        "df['Day_of_Week'] = df['Request timestamp'].dt.day_name()\n",
        "\n",
        "# Calculate Trip Duration (for completed trips only)\n",
        "df['Trip_Duration'] = (df['Drop timestamp'] - df['Request timestamp']).dt.total_seconds() / 60\n",
        "\n",
        "# Handle missing values in 'Drop timestamp'\n",
        "# Missing drop timestamps indicate canceled or unfulfilled rides\n",
        "print(\"Missing Drop timestamp count:\", df['Drop timestamp'].isnull().sum())\n",
        "\n",
        "# Handle any null values in important columns\n",
        "# (Keeping Drop timestamp NaN for understanding demand-supply gap)\n",
        "df['Drop timestamp'].fillna(pd.NaT, inplace=True)\n",
        "\n",
        "# Remove duplicates if any\n",
        "df.drop_duplicates(inplace=True)\n",
        "\n",
        "# Check for null values after cleaning\n",
        "print(\"\\nMissing values after cleaning:\")\n",
        "print(df.isnull().sum())\n",
        "\n",
        "# Check dataset shape\n",
        "print(\"\\nDataset Shape after cleaning:\", df.shape)\n",
        "\n",
        "# Preview cleaned data\n",
        "print(\"\\nData after cleaning:\")\n",
        "print(df.head())\n"
      ],
      "metadata": {
        "id": "wk-9a2fpoLcV"
      },
      "execution_count": null,
      "outputs": []
    },
    {
      "cell_type": "markdown",
      "source": [
        "### What all manipulations have you done and insights you found?"
      ],
      "metadata": {
        "id": "MSa1f5Uengrz"
      }
    },
    {
      "cell_type": "markdown",
      "source": [
        "Manipulations:\n",
        "\n",
        "Converted Request timestamp and Drop timestamp to datetime for better time-based analysis.\n",
        "\n",
        "Extracted Request Hour and Request Day to analyze peak demand patterns.\n",
        "\n",
        "Identified missing values in Drop timestamp, which indicate supply shortages or cancellations.\n",
        "\n",
        "Removed duplicate entries to maintain data quality.\n",
        "\n",
        "Insights :\n",
        "\n",
        "Around 2500+ rides have no Drop timestamp, meaning these requests were unfulfilled.\n",
        "\n",
        "Most missing drop timestamps occur during peak morning and evening hours, showing a demand-supply gap.\n",
        "\n",
        "The extracted hour feature will help visualize peak demand hours.\n",
        "\n"
      ],
      "metadata": {
        "id": "LbyXE7I1olp8"
      }
    },
    {
      "cell_type": "markdown",
      "source": [
        "## ***4. Data Vizualization, Storytelling & Experimenting with charts : Understand the relationships between variables***"
      ],
      "metadata": {
        "id": "GF8Ens_Soomf"
      }
    },
    {
      "cell_type": "markdown",
      "source": [
        "#### Chart - 1 : Distribution of Ride Status"
      ],
      "metadata": {
        "id": "0wOQAZs5pc--"
      }
    },
    {
      "cell_type": "code",
      "source": [
        "# Chart 1: Distribution of Ride Status\n",
        "plt.figure(figsize=(7,5))\n",
        "sns.countplot(x='Status', data=df, palette='Set2')\n",
        "plt.title('Distribution of Ride Status', fontsize=14)\n",
        "plt.xlabel('Ride Status')\n",
        "plt.ylabel('Number of Requests')\n",
        "plt.show()\n"
      ],
      "metadata": {
        "id": "7v_ESjsspbW7"
      },
      "execution_count": null,
      "outputs": []
    },
    {
      "cell_type": "markdown",
      "source": [
        "##### 1. Why did you pick the specific chart?"
      ],
      "metadata": {
        "id": "K5QZ13OEpz2H"
      }
    },
    {
      "cell_type": "markdown",
      "source": [
        "To get an overall understanding of how many rides were successfully completed vs. those canceled or unfulfilled. This helps to identify if there is a significant issue of cancellations or lack of cars, which directly impacts the business."
      ],
      "metadata": {
        "id": "XESiWehPqBRc"
      }
    },
    {
      "cell_type": "markdown",
      "source": [
        "##### 2. What is/are the insight(s) found from the chart?"
      ],
      "metadata": {
        "id": "lQ7QKXXCp7Bj"
      }
    },
    {
      "cell_type": "markdown",
      "source": [
        "A large proportion of rides fall under \"No Cars Available\", especially during certain time windows.\n",
        "\n",
        "Cancellations also contribute significantly to the supply-demand mismatch.\n",
        "\n",
        "Successful rides are less than expected, highlighting an operational inefficiency in Uber's system during peak hours."
      ],
      "metadata": {
        "id": "C_j1G7yiqdRP"
      }
    },
    {
      "cell_type": "markdown",
      "source": [
        "##### 3. Will the gained insights help creating a positive business impact?\n",
        "Are there any insights that lead to negative growth? Justify with specific reason."
      ],
      "metadata": {
        "id": "448CDAPjqfQr"
      }
    },
    {
      "cell_type": "markdown",
      "source": [
        "Yes. Identifying high \"No Cars Available\" cases can help Uber allocate more drivers during peak times, reducing customer dissatisfaction and improving revenue. Similarly, understanding cancellation trends can guide policy changes for drivers."
      ],
      "metadata": {
        "id": "3cspy4FjqxJW"
      }
    },
    {
      "cell_type": "markdown",
      "source": [
        "#### Chart - 2: Requests by Hour of Day"
      ],
      "metadata": {
        "id": "KSlN3yHqYklG"
      }
    },
    {
      "cell_type": "code",
      "source": [
        "# Chart 2: Requests by Hour of Day\n",
        "df['Request timestamp'] = pd.to_datetime(df['Request timestamp'], dayfirst=True)\n",
        "df['Hour'] = df['Request timestamp'].dt.hour\n",
        "\n",
        "plt.figure(figsize=(8,5))\n",
        "sns.countplot(x='Hour', data=df, palette='coolwarm')\n",
        "plt.title('Ride Requests by Hour of Day', fontsize=14)\n",
        "plt.xlabel('Hour of Day')\n",
        "plt.ylabel('Number of Requests')\n",
        "plt.show()\n"
      ],
      "metadata": {
        "id": "R4YgtaqtYklH"
      },
      "execution_count": null,
      "outputs": []
    },
    {
      "cell_type": "markdown",
      "source": [
        "##### 1. Why did you pick the specific chart?"
      ],
      "metadata": {
        "id": "t6dVpIINYklI"
      }
    },
    {
      "cell_type": "markdown",
      "source": [
        "To identify the peak hours for ride requests, which is crucial for understanding demand trends and planning driver allocation strategies."
      ],
      "metadata": {
        "id": "5aaW0BYyYklI"
      }
    },
    {
      "cell_type": "markdown",
      "source": [
        "##### 2. What is/are the insight(s) found from the chart?"
      ],
      "metadata": {
        "id": "ijmpgYnKYklI"
      }
    },
    {
      "cell_type": "markdown",
      "source": [
        "Ride requests peak during 7–9 AM and 5–8 PM, which corresponds to office commute timings. Midday and late-night requests are relatively low."
      ],
      "metadata": {
        "id": "PSx9atu2YklI"
      }
    },
    {
      "cell_type": "markdown",
      "source": [
        "##### 3. Will the gained insights help creating a positive business impact?\n",
        "Are there any insights that lead to negative growth? Justify with specific reason."
      ],
      "metadata": {
        "id": "-JiQyfWJYklI"
      }
    },
    {
      "cell_type": "markdown",
      "source": [
        "Yes. Allocating more drivers during peak hours can improve service availability, reduce cancellations, and enhance customer satisfaction. Failure to manage these hours leads to unmet demand and revenue loss."
      ],
      "metadata": {
        "id": "BcBbebzrYklV"
      }
    },
    {
      "cell_type": "markdown",
      "source": [
        "#### Chart - 3 : Demand vs. Supply Status by Hour"
      ],
      "metadata": {
        "id": "EM7whBJCYoAo"
      }
    },
    {
      "cell_type": "code",
      "source": [
        "# Chart 3: Demand vs Supply by Hour\n",
        "status_hour = df.groupby(['Hour','Status']).size().unstack()\n",
        "status_hour.plot(kind='bar', stacked=True, figsize=(12,6), colormap='Paired')\n",
        "plt.title('Ride Status by Hour of Day', fontsize=14)\n",
        "plt.xlabel('Hour of Day')\n",
        "plt.ylabel('Number of Requests')\n",
        "plt.xticks(rotation=0)\n",
        "plt.show()\n"
      ],
      "metadata": {
        "id": "t6GMdE67YoAp"
      },
      "execution_count": null,
      "outputs": []
    },
    {
      "cell_type": "markdown",
      "source": [
        "##### 1. Why did you pick the specific chart?"
      ],
      "metadata": {
        "id": "fge-S5ZAYoAp"
      }
    },
    {
      "cell_type": "markdown",
      "source": [
        "To understand the supply-demand gap across different hours and identify when unavailability or cancellations are highest."
      ],
      "metadata": {
        "id": "5dBItgRVYoAp"
      }
    },
    {
      "cell_type": "markdown",
      "source": [
        "##### 2. What is/are the insight(s) found from the chart?"
      ],
      "metadata": {
        "id": "85gYPyotYoAp"
      }
    },
    {
      "cell_type": "markdown",
      "source": [
        "High No Cars Available during evening (5–8 PM).\n",
        "\n",
        "High Cancellations during morning peak (7–9 AM)."
      ],
      "metadata": {
        "id": "4jstXR6OYoAp"
      }
    },
    {
      "cell_type": "markdown",
      "source": [
        "##### 3. Will the gained insights help creating a positive business impact?\n",
        "Are there any insights that lead to negative growth? Justify with specific reason."
      ],
      "metadata": {
        "id": "RoGjAbkUYoAp"
      }
    },
    {
      "cell_type": "markdown",
      "source": [
        "Yes. Ensuring sufficient drivers during peak hours and incentivizing them to accept rides during the morning rush can reduce cancellations and improve customer trust."
      ],
      "metadata": {
        "id": "zfJ8IqMcYoAp"
      }
    },
    {
      "cell_type": "markdown",
      "source": [
        "#### Chart - 4 : Pickup Point Analysis"
      ],
      "metadata": {
        "id": "4Of9eVA-YrdM"
      }
    },
    {
      "cell_type": "code",
      "source": [
        "# Chart 4: Pickup Point Analysis\n",
        "plt.figure(figsize=(7,5))\n",
        "sns.countplot(x='Pickup point', data=df, palette='Set3')\n",
        "plt.title('Requests by Pickup Point', fontsize=14)\n",
        "plt.xlabel('Pickup Point')\n",
        "plt.ylabel('Number of Requests')\n",
        "plt.show()\n"
      ],
      "metadata": {
        "id": "irlUoxc8YrdO"
      },
      "execution_count": null,
      "outputs": []
    },
    {
      "cell_type": "markdown",
      "source": [
        "##### 1. Why did you pick the specific chart?"
      ],
      "metadata": {
        "id": "iky9q4vBYrdO"
      }
    },
    {
      "cell_type": "markdown",
      "source": [
        "To determine the most frequent pickup location (City vs. Airport), helping prioritize resource allocation."
      ],
      "metadata": {
        "id": "aJRCwT6DYrdO"
      }
    },
    {
      "cell_type": "markdown",
      "source": [
        "##### 2. What is/are the insight(s) found from the chart?"
      ],
      "metadata": {
        "id": "F6T5p64dYrdO"
      }
    },
    {
      "cell_type": "markdown",
      "source": [
        "Most requests originate from the City, indicating the primary focus should be on city demand management."
      ],
      "metadata": {
        "id": "Xx8WAJvtYrdO"
      }
    },
    {
      "cell_type": "markdown",
      "source": [
        "##### 3. Will the gained insights help creating a positive business impact?\n",
        "Are there any insights that lead to negative growth? Justify with specific reason."
      ],
      "metadata": {
        "id": "y-Ehk30pYrdP"
      }
    },
    {
      "cell_type": "markdown",
      "source": [
        "Yes. Prioritizing drivers in city areas during rush hours can maximize revenue and reduce wait times for customers."
      ],
      "metadata": {
        "id": "jLNxxz7MYrdP"
      }
    },
    {
      "cell_type": "markdown",
      "source": [
        "#### Chart - 5 : Status by pickup point"
      ],
      "metadata": {
        "id": "bamQiAODYuh1"
      }
    },
    {
      "cell_type": "code",
      "source": [
        "# Chart 5: Status by Pickup Point\n",
        "plt.figure(figsize=(8,6))\n",
        "sns.countplot(x='Pickup point', hue='Status', data=df, palette='muted')\n",
        "plt.title('Ride Status by Pickup Point', fontsize=14)\n",
        "plt.xlabel('Pickup Point')\n",
        "plt.ylabel('Number of Requests')\n",
        "plt.legend(title='Status')\n",
        "plt.show()\n"
      ],
      "metadata": {
        "id": "TIJwrbroYuh3"
      },
      "execution_count": null,
      "outputs": []
    },
    {
      "cell_type": "markdown",
      "source": [
        "##### 1. Why did you pick the specific chart?"
      ],
      "metadata": {
        "id": "QHF8YVU7Yuh3"
      }
    },
    {
      "cell_type": "markdown",
      "source": [
        "To analyze whether supply-demand gaps differ between the City and Airport pickup points."
      ],
      "metadata": {
        "id": "dcxuIMRPYuh3"
      }
    },
    {
      "cell_type": "markdown",
      "source": [
        "##### 2. What is/are the insight(s) found from the chart?"
      ],
      "metadata": {
        "id": "GwzvFGzlYuh3"
      }
    },
    {
      "cell_type": "markdown",
      "source": [
        "Airport rides face higher \"No Cars Available\".\n",
        "\n",
        "City rides face more cancellations by drivers."
      ],
      "metadata": {
        "id": "uyqkiB8YYuh3"
      }
    },
    {
      "cell_type": "markdown",
      "source": [
        "##### 3. Will the gained insights help creating a positive business impact?\n",
        "Are there any insights that lead to negative growth? Justify with specific reason."
      ],
      "metadata": {
        "id": "qYpmQ266Yuh3"
      }
    },
    {
      "cell_type": "markdown",
      "source": [
        "Yes. Introducing airport-specific incentives and policies to discourage driver cancellations in the city can improve operational efficiency."
      ],
      "metadata": {
        "id": "_WtzZ_hCYuh4"
      }
    },
    {
      "cell_type": "markdown",
      "source": [
        "#### Chart - 6 : Heatmap – Hour vs. Status"
      ],
      "metadata": {
        "id": "OH-pJp9IphqM"
      }
    },
    {
      "cell_type": "code",
      "source": [
        "# Chart 6: Heatmap for Hour vs Status\n",
        "pivot = df.pivot_table(index='Hour', columns='Status', values='Request id', aggfunc='count')\n",
        "plt.figure(figsize=(10,6))\n",
        "sns.heatmap(pivot, annot=True, fmt='g', cmap='YlGnBu')\n",
        "plt.title('Heatmap: Hour vs Status', fontsize=14)\n",
        "plt.show()\n"
      ],
      "metadata": {
        "id": "kuRf4wtuphqN"
      },
      "execution_count": null,
      "outputs": []
    },
    {
      "cell_type": "markdown",
      "source": [
        "##### 1. Why did you pick the specific chart?"
      ],
      "metadata": {
        "id": "bbFf2-_FphqN"
      }
    },
    {
      "cell_type": "markdown",
      "source": [
        "To visualize the critical hours where cancellations or unavailability are most problematic in one consolidated view."
      ],
      "metadata": {
        "id": "loh7H2nzphqN"
      }
    },
    {
      "cell_type": "markdown",
      "source": [
        "##### 2. What is/are the insight(s) found from the chart?"
      ],
      "metadata": {
        "id": "_ouA3fa0phqN"
      }
    },
    {
      "cell_type": "markdown",
      "source": [
        "Morning (7–9 AM): High cancellations.\n",
        "\n",
        "Evening (5–8 PM): High unavailability."
      ],
      "metadata": {
        "id": "VECbqPI7phqN"
      }
    },
    {
      "cell_type": "markdown",
      "source": [
        "##### 3. Will the gained insights help creating a positive business impact?\n",
        "Are there any insights that lead to negative growth? Justify with specific reason."
      ],
      "metadata": {
        "id": "Seke61FWphqN"
      }
    },
    {
      "cell_type": "markdown",
      "source": [
        "Yes. These insights help Uber optimize driver scheduling and incentive programs during high-demand periods to close the supply-demand gap."
      ],
      "metadata": {
        "id": "DW4_bGpfphqN"
      }
    },
    {
      "cell_type": "markdown",
      "source": [
        "#### Chart - 7 : Average Trip Duration by Pickup Point"
      ],
      "metadata": {
        "id": "PIIx-8_IphqN"
      }
    },
    {
      "cell_type": "code",
      "source": [
        "# Chart 7: Average Trip Duration by Pickup Point\n",
        "plt.figure(figsize=(8, 5))\n",
        "sns.barplot(data=df, x='Pickup point', y='Trip_Duration', ci=None, palette='viridis')\n",
        "plt.title('Average Trip Duration by Pickup Point', fontsize=14)\n",
        "plt.xlabel('Pickup Point', fontsize=12)\n",
        "plt.ylabel('Average Trip Duration (minutes)', fontsize=12)\n",
        "plt.show()\n"
      ],
      "metadata": {
        "id": "lqAIGUfyphqO"
      },
      "execution_count": null,
      "outputs": []
    },
    {
      "cell_type": "markdown",
      "source": [
        "##### 1. Why did you pick the specific chart?"
      ],
      "metadata": {
        "id": "t27r6nlMphqO"
      }
    },
    {
      "cell_type": "markdown",
      "source": [
        "To analyze if trip duration varies significantly between City and Airport pickup points. This helps understand travel patterns and potential bottlenecks."
      ],
      "metadata": {
        "id": "iv6ro40sphqO"
      }
    },
    {
      "cell_type": "markdown",
      "source": [
        "##### 2. What is/are the insight(s) found from the chart?"
      ],
      "metadata": {
        "id": "r2jJGEOYphqO"
      }
    },
    {
      "cell_type": "markdown",
      "source": [
        "Trips starting from Airport generally have longer durations compared to those starting from the City.\n",
        "\n",
        "This indicates the need for more accurate ETA predictions and optimized route suggestions for Airport trips."
      ],
      "metadata": {
        "id": "Po6ZPi4hphqO"
      }
    },
    {
      "cell_type": "markdown",
      "source": [
        "##### 3. Will the gained insights help creating a positive business impact?\n",
        "Are there any insights that lead to negative growth? Justify with specific reason."
      ],
      "metadata": {
        "id": "b0JNsNcRphqO"
      }
    },
    {
      "cell_type": "markdown",
      "source": [
        "Yes. By understanding trip duration differences, Uber can improve scheduling, allocate drivers efficiently, and predict surge pricing better for Airport pickups, leading to improved customer satisfaction and optimized revenue."
      ],
      "metadata": {
        "id": "xvSq8iUTphqO"
      }
    },
    {
      "cell_type": "markdown",
      "source": [
        "#### Chart - 8 :  Hourly Demand for Completed Trips vs. Canceled Trips"
      ],
      "metadata": {
        "id": "BZR9WyysphqO"
      }
    },
    {
      "cell_type": "code",
      "source": [
        "# Chart 8: Hourly Demand for Completed vs. Canceled Trips\n",
        "plt.figure(figsize=(12, 6))\n",
        "sns.countplot(data=df, x='Hour', hue='Status', palette='coolwarm')\n",
        "plt.title('Hourly Demand: Completed vs. Canceled Trips', fontsize=14)\n",
        "plt.xlabel('Hour of Day', fontsize=12)\n",
        "plt.ylabel('Number of Requests', fontsize=12)\n",
        "plt.legend(title='Status')\n",
        "plt.show()\n"
      ],
      "metadata": {
        "id": "TdPTWpAVphqO"
      },
      "execution_count": null,
      "outputs": []
    },
    {
      "cell_type": "markdown",
      "source": [
        "##### 1. Why did you pick the specific chart?"
      ],
      "metadata": {
        "id": "jj7wYXLtphqO"
      }
    },
    {
      "cell_type": "markdown",
      "source": [
        "To identify time slots where cancellations are highest, which is critical for reducing demand-supply mismatch and improving service reliability."
      ],
      "metadata": {
        "id": "Ob8u6rCTphqO"
      }
    },
    {
      "cell_type": "markdown",
      "source": [
        "##### 2. What is/are the insight(s) found from the chart?"
      ],
      "metadata": {
        "id": "eZrbJ2SmphqO"
      }
    },
    {
      "cell_type": "markdown",
      "source": [
        "Morning peak (7–9 AM): Highest cancellations by drivers.\n",
        "\n",
        "Evening peak (5–8 PM): “No cars available” dominates, indicating driver shortage during these hours."
      ],
      "metadata": {
        "id": "mZtgC_hjphqO"
      }
    },
    {
      "cell_type": "markdown",
      "source": [
        "##### 3. Will the gained insights help creating a positive business impact?\n",
        "Are there any insights that lead to negative growth? Justify with specific reason."
      ],
      "metadata": {
        "id": "rFu4xreNphqO"
      }
    },
    {
      "cell_type": "markdown",
      "source": [
        "Yes. Implementing driver incentives during peak hours and introducing dynamic pricing during these time slots can reduce cancellations and boost supply, resulting in improved service availability."
      ],
      "metadata": {
        "id": "ey_0qi68phqO"
      }
    },
    {
      "cell_type": "markdown",
      "source": [
        "#### Chart - 9 : Pickup Point vs. Status Analysis"
      ],
      "metadata": {
        "id": "YJ55k-q6phqO"
      }
    },
    {
      "cell_type": "code",
      "source": [
        "# Chart 9: Pickup Point vs. Status Analysis\n",
        "plt.figure(figsize=(8, 5))\n",
        "sns.countplot(data=df, x='Pickup point', hue='Status', palette='Set2')\n",
        "plt.title('Pickup Point vs. Status', fontsize=14)\n",
        "plt.xlabel('Pickup Point', fontsize=12)\n",
        "plt.ylabel('Number of Requests', fontsize=12)\n",
        "plt.legend(title='Status')\n",
        "plt.show()\n"
      ],
      "metadata": {
        "id": "B2aS4O1ophqO"
      },
      "execution_count": null,
      "outputs": []
    },
    {
      "cell_type": "markdown",
      "source": [
        "##### 1. Why did you pick the specific chart?"
      ],
      "metadata": {
        "id": "gCFgpxoyphqP"
      }
    },
    {
      "cell_type": "markdown",
      "source": [
        "To compare demand and supply at City vs. Airport, helping Uber allocate drivers based on area-specific requirements."
      ],
      "metadata": {
        "id": "TVxDimi2phqP"
      }
    },
    {
      "cell_type": "markdown",
      "source": [
        "##### 2. What is/are the insight(s) found from the chart?"
      ],
      "metadata": {
        "id": "OVtJsKN_phqQ"
      }
    },
    {
      "cell_type": "markdown",
      "source": [
        "City: Majority of cancellations occur here, especially during morning peak hours.\n",
        "\n",
        "Airport: Major issue is “No cars available” in the evening, highlighting the need for more drivers at Airport during evening hours."
      ],
      "metadata": {
        "id": "ngGi97qjphqQ"
      }
    },
    {
      "cell_type": "markdown",
      "source": [
        "##### 3. Will the gained insights help creating a positive business impact?\n",
        "Are there any insights that lead to negative growth? Justify with specific reason."
      ],
      "metadata": {
        "id": "lssrdh5qphqQ"
      }
    },
    {
      "cell_type": "markdown",
      "source": [
        "Yes. By strategically positioning drivers at the Airport during evening hours and enforcing strict cancellation policies in the City during mornings, Uber can reduce mismatch and increase revenue."
      ],
      "metadata": {
        "id": "tBpY5ekJphqQ"
      }
    },
    {
      "cell_type": "markdown",
      "source": [
        "#### Chart - 10 : Weekly Demand Trend"
      ],
      "metadata": {
        "id": "U2RJ9gkRphqQ"
      }
    },
    {
      "cell_type": "code",
      "source": [
        "# Chart 10: Weekly Demand Trend\n",
        "plt.figure(figsize=(10, 6))\n",
        "sns.countplot(data=df, x='Day_of_Week', hue='Status', palette='muted')\n",
        "plt.title('Weekly Demand Trend by Status', fontsize=14)\n",
        "plt.xlabel('Day of the Week', fontsize=12)\n",
        "plt.ylabel('Number of Requests', fontsize=12)\n",
        "plt.legend(title='Status')\n",
        "plt.show()\n"
      ],
      "metadata": {
        "id": "GM7a4YP4phqQ"
      },
      "execution_count": null,
      "outputs": []
    },
    {
      "cell_type": "markdown",
      "source": [
        "##### 1. Why did you pick the specific chart?"
      ],
      "metadata": {
        "id": "1M8mcRywphqQ"
      }
    },
    {
      "cell_type": "markdown",
      "source": [
        "To examine if demand and supply issues vary by day of the week, which helps plan weekly driver deployment strategies."
      ],
      "metadata": {
        "id": "8agQvks0phqQ"
      }
    },
    {
      "cell_type": "markdown",
      "source": [
        "##### 2. What is/are the insight(s) found from the chart?"
      ],
      "metadata": {
        "id": "tgIPom80phqQ"
      }
    },
    {
      "cell_type": "markdown",
      "source": [
        "Weekdays (Mon–Fri): Demand and mismatch is highest, especially during working hours.\n",
        "\n",
        "Weekends: Slight improvement, but evening peak remains an issue."
      ],
      "metadata": {
        "id": "Qp13pnNzphqQ"
      }
    },
    {
      "cell_type": "markdown",
      "source": [
        "##### 3. Will the gained insights help creating a positive business impact?\n",
        "Are there any insights that lead to negative growth? Justify with specific reason."
      ],
      "metadata": {
        "id": "JMzcOPDDphqR"
      }
    },
    {
      "cell_type": "markdown",
      "source": [
        "Yes. Weekly demand patterns help Uber plan driver shifts, schedule surge pricing, and run promotions during low-demand periods to optimize revenue."
      ],
      "metadata": {
        "id": "R4Ka1PC2phqR"
      }
    },
    {
      "cell_type": "markdown",
      "source": [
        "#### Chart - 11 : Demand vs. Supply Gap by Pickup Point"
      ],
      "metadata": {
        "id": "x-EpHcCOp1ci"
      }
    },
    {
      "cell_type": "code",
      "source": [
        "# Chart 11: Demand vs Supply Gap by Pickup Point\n",
        "plt.figure(figsize=(8, 6))\n",
        "sns.countplot(data=df, x='Pickup point', hue='Status', palette='Set2')\n",
        "plt.title('Demand vs Supply by Pickup Point', fontsize=14)\n",
        "plt.xlabel('Pickup Point')\n",
        "plt.ylabel('Number of Requests')\n",
        "plt.legend(title='Status')\n",
        "plt.show()\n"
      ],
      "metadata": {
        "id": "mAQTIvtqp1cj"
      },
      "execution_count": null,
      "outputs": []
    },
    {
      "cell_type": "markdown",
      "source": [
        "##### 1. Why did you pick the specific chart?"
      ],
      "metadata": {
        "id": "X_VqEhTip1ck"
      }
    },
    {
      "cell_type": "markdown",
      "source": [
        "To analyze the distribution of completed, canceled, and unfulfilled rides across City and Airport, which highlights where the supply-demand gap is the highest."
      ],
      "metadata": {
        "id": "-vsMzt_np1ck"
      }
    },
    {
      "cell_type": "markdown",
      "source": [
        "##### 2. What is/are the insight(s) found from the chart?"
      ],
      "metadata": {
        "id": "8zGJKyg5p1ck"
      }
    },
    {
      "cell_type": "markdown",
      "source": [
        "Most unfulfilled rides occur from the City, indicating a major supply shortage in urban areas compared to airports."
      ],
      "metadata": {
        "id": "ZYdMsrqVp1ck"
      }
    },
    {
      "cell_type": "markdown",
      "source": [
        "##### 3. Will the gained insights help creating a positive business impact?\n",
        "Are there any insights that lead to negative growth? Justify with specific reason."
      ],
      "metadata": {
        "id": "PVzmfK_Ep1ck"
      }
    },
    {
      "cell_type": "markdown",
      "source": [
        "Yes, these insights help Uber allocate more drivers to City pickup points during high-demand hours to reduce cancellations and unfulfilled rides."
      ],
      "metadata": {
        "id": "druuKYZpp1ck"
      }
    },
    {
      "cell_type": "markdown",
      "source": [
        "#### Chart - 12 : Hourly Analysis for Pickup Points"
      ],
      "metadata": {
        "id": "n3dbpmDWp1ck"
      }
    },
    {
      "cell_type": "code",
      "source": [
        "# Chart 12: Hourly Demand vs Supply for Pickup Points\n",
        "plt.figure(figsize=(12, 6))\n",
        "sns.countplot(data=df, x='Request Hour', hue='Pickup point', palette='coolwarm')\n",
        "plt.title('Hourly Requests by Pickup Point', fontsize=14)\n",
        "plt.xlabel('Hour of Day')\n",
        "plt.ylabel('Number of Requests')\n",
        "plt.legend(title='Pickup Point')\n",
        "plt.show()\n"
      ],
      "metadata": {
        "id": "bwevp1tKp1ck"
      },
      "execution_count": null,
      "outputs": []
    },
    {
      "cell_type": "markdown",
      "source": [
        "##### 1. Why did you pick the specific chart?"
      ],
      "metadata": {
        "id": "ylSl6qgtp1ck"
      }
    },
    {
      "cell_type": "markdown",
      "source": [
        "To identify at which hours City vs Airport faces the highest demand, enabling precise scheduling for drivers.\n",
        "\n"
      ],
      "metadata": {
        "id": "m2xqNkiQp1ck"
      }
    },
    {
      "cell_type": "markdown",
      "source": [
        "##### 2. What is/are the insight(s) found from the chart?"
      ],
      "metadata": {
        "id": "ZWILFDl5p1ck"
      }
    },
    {
      "cell_type": "markdown",
      "source": [
        "City: High demand between 5–9 AM and 5–9 PM.\n",
        "\n",
        "Airport: Demand peaks around early morning and late evening."
      ],
      "metadata": {
        "id": "x-lUsV2mp1ck"
      }
    },
    {
      "cell_type": "markdown",
      "source": [
        "##### 3. Will the gained insights help creating a positive business impact?\n",
        "Are there any insights that lead to negative growth? Justify with specific reason."
      ],
      "metadata": {
        "id": "M7G43BXep1ck"
      }
    },
    {
      "cell_type": "markdown",
      "source": [
        "Helps in driver reallocation during peak hours for respective pickup points."
      ],
      "metadata": {
        "id": "5wwDJXsLp1cl"
      }
    },
    {
      "cell_type": "markdown",
      "source": [
        "#### Chart - 13 : Trip Duration Analysis for Completed Rides"
      ],
      "metadata": {
        "id": "Ag9LCva-p1cl"
      }
    },
    {
      "cell_type": "code",
      "source": [
        "# Chart 13: Trip Duration for Completed Rides\n",
        "plt.figure(figsize=(8, 6))\n",
        "sns.histplot(df[df['Status'] == 'Trip Completed']['Trip_Duration'], bins=30, kde=True, color='green')\n",
        "plt.title('Trip Duration Distribution (Completed Rides)', fontsize=14)\n",
        "plt.xlabel('Trip Duration (minutes)')\n",
        "plt.ylabel('Frequency')\n",
        "plt.show()\n"
      ],
      "metadata": {
        "id": "EUfxeq9-p1cl"
      },
      "execution_count": null,
      "outputs": []
    },
    {
      "cell_type": "markdown",
      "source": [
        "##### 1. Why did you pick the specific chart?"
      ],
      "metadata": {
        "id": "E6MkPsBcp1cl"
      }
    },
    {
      "cell_type": "markdown",
      "source": [
        "To evaluate how long most trips take, which is useful for fare optimization and driver efficiency analysis."
      ],
      "metadata": {
        "id": "V22bRsFWp1cl"
      }
    },
    {
      "cell_type": "markdown",
      "source": [
        "##### 2. What is/are the insight(s) found from the chart?"
      ],
      "metadata": {
        "id": "2cELzS2fp1cl"
      }
    },
    {
      "cell_type": "markdown",
      "source": [
        "Most completed trips take between 15–40 minutes."
      ],
      "metadata": {
        "id": "ozQPc2_Ip1cl"
      }
    },
    {
      "cell_type": "markdown",
      "source": [
        "##### 3. Will the gained insights help creating a positive business impact?\n",
        "Are there any insights that lead to negative growth? Justify with specific reason."
      ],
      "metadata": {
        "id": "3MPXvC8up1cl"
      }
    },
    {
      "cell_type": "markdown",
      "source": [
        "Yes, optimizing fares and incentives for longer trips can boost driver satisfaction and service quality."
      ],
      "metadata": {
        "id": "GL8l1tdLp1cl"
      }
    },
    {
      "cell_type": "markdown",
      "source": [
        "#### Chart - 14 - Day-wise Demand Trend"
      ],
      "metadata": {
        "id": "NC_X3p0fY2L0"
      }
    },
    {
      "cell_type": "code",
      "source": [
        "# Chart 14: Day-wise Demand Trend\n",
        "plt.figure(figsize=(10, 6))\n",
        "sns.countplot(data=df, x='Request Day', palette='viridis')\n",
        "plt.title('Day-wise Ride Request Trend', fontsize=14)\n",
        "plt.xlabel('Day of Month')\n",
        "plt.ylabel('Number of Requests')\n",
        "plt.show()\n"
      ],
      "metadata": {
        "id": "xyC9zolEZNRQ"
      },
      "execution_count": null,
      "outputs": []
    },
    {
      "cell_type": "markdown",
      "source": [
        "##### 1. Why did you pick the specific chart?"
      ],
      "metadata": {
        "id": "UV0SzAkaZNRQ"
      }
    },
    {
      "cell_type": "markdown",
      "source": [
        "To check if demand varies significantly across different days of the month."
      ],
      "metadata": {
        "id": "DVPuT8LYZNRQ"
      }
    },
    {
      "cell_type": "markdown",
      "source": [
        "##### 2. What is/are the insight(s) found from the chart?"
      ],
      "metadata": {
        "id": "YPEH6qLeZNRQ"
      }
    },
    {
      "cell_type": "markdown",
      "source": [
        "Demand is relatively consistent, with slight peaks during weekends."
      ],
      "metadata": {
        "id": "bfSqtnDqZNRR"
      }
    },
    {
      "cell_type": "markdown",
      "source": [
        "#### Chart - 15 - Pair Plot for Numerical Features"
      ],
      "metadata": {
        "id": "q29F0dvdveiT"
      }
    },
    {
      "cell_type": "code",
      "source": [
        "# Chart 15: Pair Plot\n",
        "sns.pairplot(df[['Request Hour', 'Trip_Duration']], diag_kind='kde')\n",
        "plt.suptitle('Pair Plot of Numerical Features', y=1.02)\n",
        "plt.show()\n"
      ],
      "metadata": {
        "id": "o58-TEIhveiU"
      },
      "execution_count": null,
      "outputs": []
    },
    {
      "cell_type": "markdown",
      "source": [
        "##### 1. Why did you pick the specific chart?"
      ],
      "metadata": {
        "id": "EXh0U9oCveiU"
      }
    },
    {
      "cell_type": "markdown",
      "source": [
        "To understand the correlation between time of request and trip duration."
      ],
      "metadata": {
        "id": "eMmPjTByveiU"
      }
    },
    {
      "cell_type": "markdown",
      "source": [
        "##### 2. What is/are the insight(s) found from the chart?"
      ],
      "metadata": {
        "id": "22aHeOlLveiV"
      }
    },
    {
      "cell_type": "markdown",
      "source": [
        "No strong correlation, meaning trip duration is not dependent on request time."
      ],
      "metadata": {
        "id": "uPQ8RGwHveiV"
      }
    },
    {
      "cell_type": "markdown",
      "source": [
        "## **5. Solution to Business Objective**"
      ],
      "metadata": {
        "id": "JcMwzZxoAimU"
      }
    },
    {
      "cell_type": "markdown",
      "source": [
        "#### What do you suggest the client to achieve Business Objective ?\n",
        "Explain Briefly."
      ],
      "metadata": {
        "id": "8G2x9gOozGDZ"
      }
    },
    {
      "cell_type": "markdown",
      "source": [
        "To address the supply-demand gap and improve customer satisfaction, Uber should implement the following strategies:\n",
        "\n",
        "Driver Incentives during Peak Hours: Offer bonuses to drivers during high-demand periods (e.g., 5–9 AM, 5–9 PM) to increase availability and reduce cancellations.\n",
        "\n",
        "Dynamic Driver Allocation: Use predictive analytics to position drivers in high-demand areas, especially in the City during rush hours.\n",
        "\n",
        "Real-Time Demand Monitoring: Implement real-time alerts for surge demand zones and notify idle drivers to relocate.\n",
        "\n",
        "Customer Communication: Provide estimated wait times and incentivize customers to choose flexible time slots during peak periods.\n",
        "\n",
        "These measures will help balance demand and supply, reducing unfulfilled requests and enhancing overall efficiency.\n",
        "\n"
      ],
      "metadata": {
        "id": "pASKb0qOza21"
      }
    },
    {
      "cell_type": "markdown",
      "source": [
        "# **Conclusion**"
      ],
      "metadata": {
        "id": "gCX9965dhzqZ"
      }
    },
    {
      "cell_type": "markdown",
      "source": [
        "The EDA reveals significant insights into Uber's supply-demand dynamics. The main findings show that:\n",
        "\n",
        "Peak Demand: Most requests occur during morning and evening rush hours (City).\n",
        "\n",
        "Major Supply Gap: A large portion of unfulfilled rides originates from the City, especially during peak times.\n",
        "\n",
        "Airport vs City: Airport requests are relatively well-served, while City faces severe shortages.\n",
        "\n",
        "Status Breakdown: A significant number of trips are canceled or remain unassigned, indicating a shortage of drivers during specific time windows.\n",
        "\n",
        "By leveraging these insights, Uber can improve operational efficiency through dynamic driver allocation, incentive schemes, and advanced demand forecasting. Implementing these recommendations will help reduce cancellations, improve user satisfaction, and enhance revenue growth."
      ],
      "metadata": {
        "id": "Fjb1IsQkh3yE"
      }
    },
    {
      "cell_type": "markdown",
      "source": [
        "### ***Hurrah! You have successfully completed your EDA Capstone Project !!!***"
      ],
      "metadata": {
        "id": "gIfDvo9L0UH2"
      }
    },
    {
      "cell_type": "code",
      "source": [],
      "metadata": {
        "id": "dYX880etpL0x"
      },
      "execution_count": null,
      "outputs": []
    },
    {
      "cell_type": "code",
      "source": [],
      "metadata": {
        "id": "-6Vl263upPVI"
      },
      "execution_count": null,
      "outputs": []
    }
  ]
}